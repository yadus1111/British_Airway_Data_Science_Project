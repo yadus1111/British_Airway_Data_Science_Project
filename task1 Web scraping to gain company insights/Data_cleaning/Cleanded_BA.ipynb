{
 "cells": [
  {
   "cell_type": "code",
   "execution_count": 167,
   "id": "9a68458b-9e3d-41d4-8397-c42e481b4345",
   "metadata": {
    "tags": []
   },
   "outputs": [],
   "source": [
    "#imports\n",
    "\n",
    "import pandas as pd\n",
    "import os"
   ]
  },
  {
   "cell_type": "code",
   "execution_count": 168,
   "id": "bdb09983-b319-4778-ad4a-d88f4ffe40ac",
   "metadata": {
    "tags": []
   },
   "outputs": [],
   "source": [
    "#create a dataframe from csv file\n",
    "\n",
    "cwd = os.getcwd()\n",
    "df = pd.read_csv(\"C:\\\\Users\\\\USER\\\\Britishairway/Data_collection/BA_reviews.csv\", index_col=0)"
   ]
  },
  {
   "cell_type": "code",
   "execution_count": 169,
   "id": "53f507f7-4c30-44f5-806f-efb0ff3e1fce",
   "metadata": {
    "tags": []
   },
   "outputs": [
    {
     "data": {
      "text/html": [
       "<div>\n",
       "<style scoped>\n",
       "    .dataframe tbody tr th:only-of-type {\n",
       "        vertical-align: middle;\n",
       "    }\n",
       "\n",
       "    .dataframe tbody tr th {\n",
       "        vertical-align: top;\n",
       "    }\n",
       "\n",
       "    .dataframe thead th {\n",
       "        text-align: right;\n",
       "    }\n",
       "</style>\n",
       "<table border=\"1\" class=\"dataframe\">\n",
       "  <thead>\n",
       "    <tr style=\"text-align: right;\">\n",
       "      <th></th>\n",
       "      <th>reviews</th>\n",
       "      <th>date</th>\n",
       "      <th>country</th>\n",
       "      <th>stars</th>\n",
       "    </tr>\n",
       "    <tr>\n",
       "      <th>index</th>\n",
       "      <th></th>\n",
       "      <th></th>\n",
       "      <th></th>\n",
       "      <th></th>\n",
       "    </tr>\n",
       "  </thead>\n",
       "  <tbody>\n",
       "    <tr>\n",
       "      <th>0</th>\n",
       "      <td>✅ Trip Verified | Terrible Experience with Bri...</td>\n",
       "      <td>29th July 2023</td>\n",
       "      <td>Canada</td>\n",
       "      <td>5</td>\n",
       "    </tr>\n",
       "    <tr>\n",
       "      <th>1</th>\n",
       "      <td>✅ Trip Verified | An airline that lives in the...</td>\n",
       "      <td>26th July 2023</td>\n",
       "      <td>Qatar</td>\n",
       "      <td>2</td>\n",
       "    </tr>\n",
       "    <tr>\n",
       "      <th>2</th>\n",
       "      <td>✅ Trip Verified |  Check-in Desk rude and dism...</td>\n",
       "      <td>26th July 2023</td>\n",
       "      <td>United Kingdom</td>\n",
       "      <td>10</td>\n",
       "    </tr>\n",
       "    <tr>\n",
       "      <th>3</th>\n",
       "      <td>✅ Trip Verified | I chose British Airways espe...</td>\n",
       "      <td>25th July 2023</td>\n",
       "      <td>Spain</td>\n",
       "      <td>3</td>\n",
       "    </tr>\n",
       "    <tr>\n",
       "      <th>4</th>\n",
       "      <td>Not Verified | I booked Premium Economy from I...</td>\n",
       "      <td>24th July 2023</td>\n",
       "      <td>United Kingdom</td>\n",
       "      <td>2</td>\n",
       "    </tr>\n",
       "  </tbody>\n",
       "</table>\n",
       "</div>"
      ],
      "text/plain": [
       "                                                 reviews            date  \\\n",
       "index                                                                      \n",
       "0      ✅ Trip Verified | Terrible Experience with Bri...  29th July 2023   \n",
       "1      ✅ Trip Verified | An airline that lives in the...  26th July 2023   \n",
       "2      ✅ Trip Verified |  Check-in Desk rude and dism...  26th July 2023   \n",
       "3      ✅ Trip Verified | I chose British Airways espe...  25th July 2023   \n",
       "4      Not Verified | I booked Premium Economy from I...  24th July 2023   \n",
       "\n",
       "              country  stars  \n",
       "index                         \n",
       "0              Canada      5  \n",
       "1               Qatar      2  \n",
       "2      United Kingdom     10  \n",
       "3               Spain      3  \n",
       "4      United Kingdom      2  "
      ]
     },
     "execution_count": 169,
     "metadata": {},
     "output_type": "execute_result"
    }
   ],
   "source": [
    "df.head()"
   ]
  },
  {
   "cell_type": "code",
   "execution_count": 170,
   "id": "00f39740-47d1-4ea3-8212-623fb499f337",
   "metadata": {
    "tags": []
   },
   "outputs": [],
   "source": [
    "\n",
    "# Reset the 'reviews' index to a regular column\n",
    "df.reset_index(inplace=True)\n",
    "\n",
    "# Convert the 'reviews' column to a string data type\n",
    "df['reviews'] = df['reviews'].astype(str)\n",
    "\n",
    "# Add the 'verified' column based on whether the review starts with \"✅ Trip Verified\"\n",
    "df['verified'] = df['reviews'].str.startswith('✅ Trip Verified')\n",
    "\n",
    "# If you only want the first part before '|' in the 'reviews' column, you can use the split operation as follows:\n",
    "# df['reviews'] = df['reviews'].str.split('|').str[0].str.strip()\n",
    "\n"
   ]
  },
  {
   "cell_type": "code",
   "execution_count": 171,
   "id": "85e35f5c-0bb9-4084-b01b-1664fea482f9",
   "metadata": {
    "tags": []
   },
   "outputs": [
    {
     "data": {
      "text/plain": [
       "0        True\n",
       "1        True\n",
       "2        True\n",
       "3        True\n",
       "4       False\n",
       "        ...  \n",
       "1005    False\n",
       "1006    False\n",
       "1007    False\n",
       "1008    False\n",
       "1009    False\n",
       "Name: verified, Length: 1010, dtype: bool"
      ]
     },
     "execution_count": 171,
     "metadata": {},
     "output_type": "execute_result"
    }
   ],
   "source": [
    "df['verified']"
   ]
  },
  {
   "cell_type": "code",
   "execution_count": 172,
   "id": "6275f31e-c600-4b92-88b9-e101c6c4a40f",
   "metadata": {
    "tags": []
   },
   "outputs": [
    {
     "data": {
      "text/html": [
       "<div>\n",
       "<style scoped>\n",
       "    .dataframe tbody tr th:only-of-type {\n",
       "        vertical-align: middle;\n",
       "    }\n",
       "\n",
       "    .dataframe tbody tr th {\n",
       "        vertical-align: top;\n",
       "    }\n",
       "\n",
       "    .dataframe thead th {\n",
       "        text-align: right;\n",
       "    }\n",
       "</style>\n",
       "<table border=\"1\" class=\"dataframe\">\n",
       "  <thead>\n",
       "    <tr style=\"text-align: right;\">\n",
       "      <th></th>\n",
       "      <th>index</th>\n",
       "      <th>reviews</th>\n",
       "      <th>date</th>\n",
       "      <th>country</th>\n",
       "      <th>stars</th>\n",
       "      <th>verified</th>\n",
       "    </tr>\n",
       "  </thead>\n",
       "  <tbody>\n",
       "    <tr>\n",
       "      <th>0</th>\n",
       "      <td>0</td>\n",
       "      <td>✅ Trip Verified | Terrible Experience with Bri...</td>\n",
       "      <td>29th July 2023</td>\n",
       "      <td>Canada</td>\n",
       "      <td>5</td>\n",
       "      <td>True</td>\n",
       "    </tr>\n",
       "    <tr>\n",
       "      <th>1</th>\n",
       "      <td>1</td>\n",
       "      <td>✅ Trip Verified | An airline that lives in the...</td>\n",
       "      <td>26th July 2023</td>\n",
       "      <td>Qatar</td>\n",
       "      <td>2</td>\n",
       "      <td>True</td>\n",
       "    </tr>\n",
       "    <tr>\n",
       "      <th>2</th>\n",
       "      <td>2</td>\n",
       "      <td>✅ Trip Verified |  Check-in Desk rude and dism...</td>\n",
       "      <td>26th July 2023</td>\n",
       "      <td>United Kingdom</td>\n",
       "      <td>10</td>\n",
       "      <td>True</td>\n",
       "    </tr>\n",
       "    <tr>\n",
       "      <th>3</th>\n",
       "      <td>3</td>\n",
       "      <td>✅ Trip Verified | I chose British Airways espe...</td>\n",
       "      <td>25th July 2023</td>\n",
       "      <td>Spain</td>\n",
       "      <td>3</td>\n",
       "      <td>True</td>\n",
       "    </tr>\n",
       "    <tr>\n",
       "      <th>4</th>\n",
       "      <td>4</td>\n",
       "      <td>Not Verified | I booked Premium Economy from I...</td>\n",
       "      <td>24th July 2023</td>\n",
       "      <td>United Kingdom</td>\n",
       "      <td>2</td>\n",
       "      <td>False</td>\n",
       "    </tr>\n",
       "  </tbody>\n",
       "</table>\n",
       "</div>"
      ],
      "text/plain": [
       "   index                                            reviews            date  \\\n",
       "0      0  ✅ Trip Verified | Terrible Experience with Bri...  29th July 2023   \n",
       "1      1  ✅ Trip Verified | An airline that lives in the...  26th July 2023   \n",
       "2      2  ✅ Trip Verified |  Check-in Desk rude and dism...  26th July 2023   \n",
       "3      3  ✅ Trip Verified | I chose British Airways espe...  25th July 2023   \n",
       "4      4  Not Verified | I booked Premium Economy from I...  24th July 2023   \n",
       "\n",
       "          country  stars  verified  \n",
       "0          Canada      5      True  \n",
       "1           Qatar      2      True  \n",
       "2  United Kingdom     10      True  \n",
       "3           Spain      3      True  \n",
       "4  United Kingdom      2     False  "
      ]
     },
     "execution_count": 172,
     "metadata": {},
     "output_type": "execute_result"
    }
   ],
   "source": [
    "df.head()"
   ]
  },
  {
   "cell_type": "code",
   "execution_count": 173,
   "id": "0dbd03b4-830c-46f2-8531-77bf5bec1bc4",
   "metadata": {
    "tags": []
   },
   "outputs": [],
   "source": [
    "df.reviews= df.reviews.str.split('|',expand=True)[1]"
   ]
  },
  {
   "cell_type": "code",
   "execution_count": 174,
   "id": "779dfa7e-3f53-4289-bf07-98d654ff327a",
   "metadata": {
    "tags": []
   },
   "outputs": [
    {
     "data": {
      "text/html": [
       "<div>\n",
       "<style scoped>\n",
       "    .dataframe tbody tr th:only-of-type {\n",
       "        vertical-align: middle;\n",
       "    }\n",
       "\n",
       "    .dataframe tbody tr th {\n",
       "        vertical-align: top;\n",
       "    }\n",
       "\n",
       "    .dataframe thead th {\n",
       "        text-align: right;\n",
       "    }\n",
       "</style>\n",
       "<table border=\"1\" class=\"dataframe\">\n",
       "  <thead>\n",
       "    <tr style=\"text-align: right;\">\n",
       "      <th></th>\n",
       "      <th>index</th>\n",
       "      <th>reviews</th>\n",
       "      <th>date</th>\n",
       "      <th>country</th>\n",
       "      <th>stars</th>\n",
       "      <th>verified</th>\n",
       "    </tr>\n",
       "  </thead>\n",
       "  <tbody>\n",
       "    <tr>\n",
       "      <th>0</th>\n",
       "      <td>0</td>\n",
       "      <td>Terrible Experience with British Airways. I b...</td>\n",
       "      <td>29th July 2023</td>\n",
       "      <td>Canada</td>\n",
       "      <td>5</td>\n",
       "      <td>True</td>\n",
       "    </tr>\n",
       "    <tr>\n",
       "      <th>1</th>\n",
       "      <td>1</td>\n",
       "      <td>An airline that lives in their past glory and...</td>\n",
       "      <td>26th July 2023</td>\n",
       "      <td>Qatar</td>\n",
       "      <td>2</td>\n",
       "      <td>True</td>\n",
       "    </tr>\n",
       "    <tr>\n",
       "      <th>2</th>\n",
       "      <td>2</td>\n",
       "      <td>Check-in Desk rude and dismissive. Flight la...</td>\n",
       "      <td>26th July 2023</td>\n",
       "      <td>United Kingdom</td>\n",
       "      <td>10</td>\n",
       "      <td>True</td>\n",
       "    </tr>\n",
       "    <tr>\n",
       "      <th>3</th>\n",
       "      <td>3</td>\n",
       "      <td>I chose British Airways especially because I ...</td>\n",
       "      <td>25th July 2023</td>\n",
       "      <td>Spain</td>\n",
       "      <td>3</td>\n",
       "      <td>True</td>\n",
       "    </tr>\n",
       "    <tr>\n",
       "      <th>4</th>\n",
       "      <td>4</td>\n",
       "      <td>I booked Premium Economy from INV to LAX (via...</td>\n",
       "      <td>24th July 2023</td>\n",
       "      <td>United Kingdom</td>\n",
       "      <td>2</td>\n",
       "      <td>False</td>\n",
       "    </tr>\n",
       "  </tbody>\n",
       "</table>\n",
       "</div>"
      ],
      "text/plain": [
       "   index                                            reviews            date  \\\n",
       "0      0   Terrible Experience with British Airways. I b...  29th July 2023   \n",
       "1      1   An airline that lives in their past glory and...  26th July 2023   \n",
       "2      2    Check-in Desk rude and dismissive. Flight la...  26th July 2023   \n",
       "3      3   I chose British Airways especially because I ...  25th July 2023   \n",
       "4      4   I booked Premium Economy from INV to LAX (via...  24th July 2023   \n",
       "\n",
       "          country  stars  verified  \n",
       "0          Canada      5      True  \n",
       "1           Qatar      2      True  \n",
       "2  United Kingdom     10      True  \n",
       "3           Spain      3      True  \n",
       "4  United Kingdom      2     False  "
      ]
     },
     "execution_count": 174,
     "metadata": {},
     "output_type": "execute_result"
    }
   ],
   "source": [
    "df.head()"
   ]
  },
  {
   "cell_type": "code",
   "execution_count": 175,
   "id": "835e0019-d95c-4a7d-ad31-a2b1df8d7d44",
   "metadata": {
    "tags": []
   },
   "outputs": [
    {
     "data": {
      "text/plain": [
       "index        int64\n",
       "reviews     object\n",
       "date        object\n",
       "country     object\n",
       "stars        int64\n",
       "verified      bool\n",
       "dtype: object"
      ]
     },
     "execution_count": 175,
     "metadata": {},
     "output_type": "execute_result"
    }
   ],
   "source": [
    "df.dtypes"
   ]
  },
  {
   "cell_type": "code",
   "execution_count": 176,
   "id": "3208fb68-9cf1-47ac-84e9-16395ae1398a",
   "metadata": {
    "tags": []
   },
   "outputs": [],
   "source": [
    "# convert the date to datetime format\n",
    "\n",
    "df.date = pd.to_datetime(df.date)"
   ]
  },
  {
   "cell_type": "code",
   "execution_count": 177,
   "id": "496bfda7-5413-46db-b84d-be2e2cc6aa59",
   "metadata": {
    "tags": []
   },
   "outputs": [
    {
     "data": {
      "text/plain": [
       "0   2023-07-29\n",
       "1   2023-07-26\n",
       "2   2023-07-26\n",
       "3   2023-07-25\n",
       "4   2023-07-24\n",
       "Name: date, dtype: datetime64[ns]"
      ]
     },
     "execution_count": 177,
     "metadata": {},
     "output_type": "execute_result"
    }
   ],
   "source": [
    "df.date.head()"
   ]
  },
  {
   "cell_type": "markdown",
   "id": "700f1ecf-2e61-4b27-84e4-c365adaf65e8",
   "metadata": {},
   "source": [
    "Cleaning star "
   ]
  },
  {
   "cell_type": "code",
   "execution_count": 178,
   "id": "13051da0-390f-47e8-885a-54e2115bb19e",
   "metadata": {
    "tags": []
   },
   "outputs": [
    {
     "data": {
      "text/plain": [
       "array([ 5,  2, 10,  3,  7,  1,  4,  6,  8,  9], dtype=int64)"
      ]
     },
     "execution_count": 178,
     "metadata": {},
     "output_type": "execute_result"
    }
   ],
   "source": [
    "#check for unique values\n",
    "df.stars.unique()"
   ]
  },
  {
   "cell_type": "code",
   "execution_count": 179,
   "id": "c40f6dd4-496a-4354-b91d-564279989114",
   "metadata": {
    "tags": []
   },
   "outputs": [
    {
     "data": {
      "text/plain": [
       "1     290\n",
       "2     160\n",
       "3     130\n",
       "10     80\n",
       "7      70\n",
       "4      70\n",
       "9      60\n",
       "5      50\n",
       "6      50\n",
       "8      50\n",
       "Name: stars, dtype: int64"
      ]
     },
     "execution_count": 179,
     "metadata": {},
     "output_type": "execute_result"
    }
   ],
   "source": [
    "df.stars.value_counts()"
   ]
  },
  {
   "cell_type": "code",
   "execution_count": 180,
   "id": "054c708e-d0f8-4b57-8213-1960f6e298d3",
   "metadata": {
    "tags": []
   },
   "outputs": [
    {
     "data": {
      "text/plain": [
       "index  reviews  date   country  stars  verified\n",
       "False  False    False  False    False  False       1000\n",
       "       True     True   True     False  False         10\n",
       "dtype: int64"
      ]
     },
     "execution_count": 180,
     "metadata": {},
     "output_type": "execute_result"
    }
   ],
   "source": [
    "df.isnull().value_counts()"
   ]
  },
  {
   "cell_type": "code",
   "execution_count": 181,
   "id": "67f3d624-b4b2-4846-850d-a5a82087a982",
   "metadata": {
    "tags": []
   },
   "outputs": [],
   "source": [
    "\n",
    "# Use dropna() to remove rows with NaT and NaN values\n",
    "df.dropna(how='any', inplace=True)\n"
   ]
  },
  {
   "cell_type": "code",
   "execution_count": 182,
   "id": "4c947a90-ad04-4411-936d-61dcca4321dd",
   "metadata": {
    "tags": []
   },
   "outputs": [
    {
     "data": {
      "text/plain": [
       "index  reviews  date   country  stars  verified\n",
       "False  False    False  False    False  False       1000\n",
       "dtype: int64"
      ]
     },
     "execution_count": 182,
     "metadata": {},
     "output_type": "execute_result"
    }
   ],
   "source": [
    "df.isnull().value_counts()"
   ]
  },
  {
   "cell_type": "code",
   "execution_count": 183,
   "id": "1d9d1486-2139-466c-bc45-d4a4db5089fe",
   "metadata": {
    "tags": []
   },
   "outputs": [
    {
     "data": {
      "text/html": [
       "<div>\n",
       "<style scoped>\n",
       "    .dataframe tbody tr th:only-of-type {\n",
       "        vertical-align: middle;\n",
       "    }\n",
       "\n",
       "    .dataframe tbody tr th {\n",
       "        vertical-align: top;\n",
       "    }\n",
       "\n",
       "    .dataframe thead th {\n",
       "        text-align: right;\n",
       "    }\n",
       "</style>\n",
       "<table border=\"1\" class=\"dataframe\">\n",
       "  <thead>\n",
       "    <tr style=\"text-align: right;\">\n",
       "      <th></th>\n",
       "      <th>index</th>\n",
       "      <th>reviews</th>\n",
       "      <th>date</th>\n",
       "      <th>country</th>\n",
       "      <th>stars</th>\n",
       "      <th>verified</th>\n",
       "    </tr>\n",
       "  </thead>\n",
       "  <tbody>\n",
       "    <tr>\n",
       "      <th>0</th>\n",
       "      <td>0</td>\n",
       "      <td>Terrible Experience with British Airways. I b...</td>\n",
       "      <td>2023-07-29</td>\n",
       "      <td>Canada</td>\n",
       "      <td>5</td>\n",
       "      <td>True</td>\n",
       "    </tr>\n",
       "    <tr>\n",
       "      <th>1</th>\n",
       "      <td>1</td>\n",
       "      <td>An airline that lives in their past glory and...</td>\n",
       "      <td>2023-07-26</td>\n",
       "      <td>Qatar</td>\n",
       "      <td>2</td>\n",
       "      <td>True</td>\n",
       "    </tr>\n",
       "    <tr>\n",
       "      <th>2</th>\n",
       "      <td>2</td>\n",
       "      <td>Check-in Desk rude and dismissive. Flight la...</td>\n",
       "      <td>2023-07-26</td>\n",
       "      <td>United Kingdom</td>\n",
       "      <td>10</td>\n",
       "      <td>True</td>\n",
       "    </tr>\n",
       "    <tr>\n",
       "      <th>3</th>\n",
       "      <td>3</td>\n",
       "      <td>I chose British Airways especially because I ...</td>\n",
       "      <td>2023-07-25</td>\n",
       "      <td>Spain</td>\n",
       "      <td>3</td>\n",
       "      <td>True</td>\n",
       "    </tr>\n",
       "    <tr>\n",
       "      <th>4</th>\n",
       "      <td>4</td>\n",
       "      <td>I booked Premium Economy from INV to LAX (via...</td>\n",
       "      <td>2023-07-24</td>\n",
       "      <td>United Kingdom</td>\n",
       "      <td>2</td>\n",
       "      <td>False</td>\n",
       "    </tr>\n",
       "    <tr>\n",
       "      <th>...</th>\n",
       "      <td>...</td>\n",
       "      <td>...</td>\n",
       "      <td>...</td>\n",
       "      <td>...</td>\n",
       "      <td>...</td>\n",
       "      <td>...</td>\n",
       "    </tr>\n",
       "    <tr>\n",
       "      <th>995</th>\n",
       "      <td>995</td>\n",
       "      <td>\\r\\nBA34 KUL-LHR 6 Sept, return BA11 LHR-SIN-...</td>\n",
       "      <td>2018-09-20</td>\n",
       "      <td>Malaysia</td>\n",
       "      <td>2</td>\n",
       "      <td>True</td>\n",
       "    </tr>\n",
       "    <tr>\n",
       "      <th>996</th>\n",
       "      <td>996</td>\n",
       "      <td>We flew from Los Angeles to Leeds Bradford vi...</td>\n",
       "      <td>2018-09-18</td>\n",
       "      <td>United Kingdom</td>\n",
       "      <td>4</td>\n",
       "      <td>True</td>\n",
       "    </tr>\n",
       "    <tr>\n",
       "      <th>997</th>\n",
       "      <td>997</td>\n",
       "      <td>Brindisi to London. Flying from any airport ...</td>\n",
       "      <td>2018-09-17</td>\n",
       "      <td>United Kingdom</td>\n",
       "      <td>1</td>\n",
       "      <td>True</td>\n",
       "    </tr>\n",
       "    <tr>\n",
       "      <th>998</th>\n",
       "      <td>998</td>\n",
       "      <td>Chicago to London. I have flown long haul ma...</td>\n",
       "      <td>2018-09-16</td>\n",
       "      <td>United Kingdom</td>\n",
       "      <td>1</td>\n",
       "      <td>True</td>\n",
       "    </tr>\n",
       "    <tr>\n",
       "      <th>999</th>\n",
       "      <td>999</td>\n",
       "      <td>Berlin to London. It was a connecting flight...</td>\n",
       "      <td>2018-09-16</td>\n",
       "      <td>Germany</td>\n",
       "      <td>2</td>\n",
       "      <td>True</td>\n",
       "    </tr>\n",
       "  </tbody>\n",
       "</table>\n",
       "<p>1000 rows × 6 columns</p>\n",
       "</div>"
      ],
      "text/plain": [
       "     index                                            reviews       date  \\\n",
       "0        0   Terrible Experience with British Airways. I b... 2023-07-29   \n",
       "1        1   An airline that lives in their past glory and... 2023-07-26   \n",
       "2        2    Check-in Desk rude and dismissive. Flight la... 2023-07-26   \n",
       "3        3   I chose British Airways especially because I ... 2023-07-25   \n",
       "4        4   I booked Premium Economy from INV to LAX (via... 2023-07-24   \n",
       "..     ...                                                ...        ...   \n",
       "995    995   \\r\\nBA34 KUL-LHR 6 Sept, return BA11 LHR-SIN-... 2018-09-20   \n",
       "996    996   We flew from Los Angeles to Leeds Bradford vi... 2018-09-18   \n",
       "997    997    Brindisi to London. Flying from any airport ... 2018-09-17   \n",
       "998    998    Chicago to London. I have flown long haul ma... 2018-09-16   \n",
       "999    999    Berlin to London. It was a connecting flight... 2018-09-16   \n",
       "\n",
       "            country  stars  verified  \n",
       "0            Canada      5      True  \n",
       "1             Qatar      2      True  \n",
       "2    United Kingdom     10      True  \n",
       "3             Spain      3      True  \n",
       "4    United Kingdom      2     False  \n",
       "..              ...    ...       ...  \n",
       "995        Malaysia      2      True  \n",
       "996  United Kingdom      4      True  \n",
       "997  United Kingdom      1      True  \n",
       "998  United Kingdom      1      True  \n",
       "999         Germany      2      True  \n",
       "\n",
       "[1000 rows x 6 columns]"
      ]
     },
     "execution_count": 183,
     "metadata": {},
     "output_type": "execute_result"
    }
   ],
   "source": [
    "#resetting the index\n",
    "df.reset_index(drop=True)"
   ]
  },
  {
   "cell_type": "code",
   "execution_count": 189,
   "id": "a18969fb-a6a9-48bb-b78e-e3c5f1dab7ec",
   "metadata": {
    "tags": []
   },
   "outputs": [],
   "source": [
    "# export the cleaned data\n",
    "\n",
    "df.to_csv(cwd + \"/cleaned_BA_reviews.csv\")"
   ]
  },
  {
   "cell_type": "code",
   "execution_count": 185,
   "id": "9db5c937-a0bf-4b87-8c8f-1fd4f06dfb50",
   "metadata": {
    "tags": []
   },
   "outputs": [
    {
     "data": {
      "text/html": [
       "<div>\n",
       "<style scoped>\n",
       "    .dataframe tbody tr th:only-of-type {\n",
       "        vertical-align: middle;\n",
       "    }\n",
       "\n",
       "    .dataframe tbody tr th {\n",
       "        vertical-align: top;\n",
       "    }\n",
       "\n",
       "    .dataframe thead th {\n",
       "        text-align: right;\n",
       "    }\n",
       "</style>\n",
       "<table border=\"1\" class=\"dataframe\">\n",
       "  <thead>\n",
       "    <tr style=\"text-align: right;\">\n",
       "      <th></th>\n",
       "      <th>index</th>\n",
       "      <th>reviews</th>\n",
       "      <th>date</th>\n",
       "      <th>country</th>\n",
       "      <th>stars</th>\n",
       "      <th>verified</th>\n",
       "    </tr>\n",
       "  </thead>\n",
       "  <tbody>\n",
       "    <tr>\n",
       "      <th>0</th>\n",
       "      <td>0</td>\n",
       "      <td>Terrible Experience with British Airways. I b...</td>\n",
       "      <td>2023-07-29</td>\n",
       "      <td>Canada</td>\n",
       "      <td>5</td>\n",
       "      <td>True</td>\n",
       "    </tr>\n",
       "    <tr>\n",
       "      <th>1</th>\n",
       "      <td>1</td>\n",
       "      <td>An airline that lives in their past glory and...</td>\n",
       "      <td>2023-07-26</td>\n",
       "      <td>Qatar</td>\n",
       "      <td>2</td>\n",
       "      <td>True</td>\n",
       "    </tr>\n",
       "    <tr>\n",
       "      <th>2</th>\n",
       "      <td>2</td>\n",
       "      <td>Check-in Desk rude and dismissive. Flight la...</td>\n",
       "      <td>2023-07-26</td>\n",
       "      <td>United Kingdom</td>\n",
       "      <td>10</td>\n",
       "      <td>True</td>\n",
       "    </tr>\n",
       "    <tr>\n",
       "      <th>3</th>\n",
       "      <td>3</td>\n",
       "      <td>I chose British Airways especially because I ...</td>\n",
       "      <td>2023-07-25</td>\n",
       "      <td>Spain</td>\n",
       "      <td>3</td>\n",
       "      <td>True</td>\n",
       "    </tr>\n",
       "    <tr>\n",
       "      <th>4</th>\n",
       "      <td>4</td>\n",
       "      <td>I booked Premium Economy from INV to LAX (via...</td>\n",
       "      <td>2023-07-24</td>\n",
       "      <td>United Kingdom</td>\n",
       "      <td>2</td>\n",
       "      <td>False</td>\n",
       "    </tr>\n",
       "  </tbody>\n",
       "</table>\n",
       "</div>"
      ],
      "text/plain": [
       "   index                                            reviews       date  \\\n",
       "0      0   Terrible Experience with British Airways. I b... 2023-07-29   \n",
       "1      1   An airline that lives in their past glory and... 2023-07-26   \n",
       "2      2    Check-in Desk rude and dismissive. Flight la... 2023-07-26   \n",
       "3      3   I chose British Airways especially because I ... 2023-07-25   \n",
       "4      4   I booked Premium Economy from INV to LAX (via... 2023-07-24   \n",
       "\n",
       "          country  stars  verified  \n",
       "0          Canada      5      True  \n",
       "1           Qatar      2      True  \n",
       "2  United Kingdom     10      True  \n",
       "3           Spain      3      True  \n",
       "4  United Kingdom      2     False  "
      ]
     },
     "execution_count": 185,
     "metadata": {},
     "output_type": "execute_result"
    }
   ],
   "source": [
    "df.head()"
   ]
  },
  {
   "cell_type": "code",
   "execution_count": 188,
   "id": "8a3b7399-b2cb-4ece-a99b-014b4ffb363b",
   "metadata": {
    "tags": []
   },
   "outputs": [
    {
     "data": {
      "text/plain": [
       "(1000, 6)"
      ]
     },
     "execution_count": 188,
     "metadata": {},
     "output_type": "execute_result"
    }
   ],
   "source": [
    "df.shape"
   ]
  },
  {
   "cell_type": "code",
   "execution_count": null,
   "id": "a2c454c5-35a9-48d7-8fbf-756a115388a1",
   "metadata": {},
   "outputs": [],
   "source": []
  }
 ],
 "metadata": {
  "kernelspec": {
   "display_name": "Python 3 (ipykernel)",
   "language": "python",
   "name": "python3"
  },
  "language_info": {
   "codemirror_mode": {
    "name": "ipython",
    "version": 3
   },
   "file_extension": ".py",
   "mimetype": "text/x-python",
   "name": "python",
   "nbconvert_exporter": "python",
   "pygments_lexer": "ipython3",
   "version": "3.11.3"
  }
 },
 "nbformat": 4,
 "nbformat_minor": 5
}
