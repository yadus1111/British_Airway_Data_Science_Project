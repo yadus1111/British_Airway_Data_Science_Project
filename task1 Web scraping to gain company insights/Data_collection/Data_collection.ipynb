{
 "cells": [
  {
   "cell_type": "code",
   "execution_count": 162,
   "id": "c112f4c5-c491-4dc5-b328-df9c3b4c3afe",
   "metadata": {
    "tags": []
   },
   "outputs": [],
   "source": [
    "#imports\n",
    "\n",
    "import pandas as pd\n",
    "import numpy as np\n",
    "from bs4 import BeautifulSoup\n",
    "import requests "
   ]
  },
  {
   "cell_type": "code",
   "execution_count": 163,
   "id": "a77d1a6c",
   "metadata": {
    "tags": []
   },
   "outputs": [],
   "source": [
    "# Initialize lists to store scraped data\n",
    "\n",
    "reviews  = []\n",
    "stars = []\n",
    "date = []\n",
    "country = []"
   ]
  },
  {
   "cell_type": "code",
   "execution_count": 164,
   "id": "d04796bb-af40-4804-b9cf-192c0005bfce",
   "metadata": {
    "tags": []
   },
   "outputs": [
    {
     "name": "stdout",
     "output_type": "stream",
     "text": [
      "Scraping page 1\n",
      "   ---> 100 total reviews\n",
      "Scraping page 2\n",
      "   ---> 200 total reviews\n",
      "Scraping page 3\n",
      "   ---> 300 total reviews\n",
      "Scraping page 4\n",
      "   ---> 400 total reviews\n",
      "Scraping page 5\n",
      "   ---> 500 total reviews\n",
      "Scraping page 6\n",
      "   ---> 600 total reviews\n",
      "Scraping page 7\n",
      "   ---> 700 total reviews\n",
      "Scraping page 8\n",
      "   ---> 800 total reviews\n",
      "Scraping page 9\n",
      "   ---> 900 total reviews\n",
      "Scraping page 10\n",
      "   ---> 1000 total reviews\n",
      "DataFrame created successfully!\n"
     ]
    }
   ],
   "source": [
    "pages = 10\n",
    "page_size = 100\n",
    "\n",
    "for i in range(1, pages + 1):\n",
    "\n",
    "    print(f\"Scraping page {i}\")\n",
    "\n",
    "    page = requests.get(f\"https://www.airlinequality.com/airline-reviews/british-airways/page/{i}/?sortby=post_date%3ADesc&pagesize=100\")\n",
    "    \n",
    "    soup = BeautifulSoup(page.content, \"html.parser\")  \n",
    "    \n",
    "    for item in soup.find_all(\"div\", class_=\"text_content\"):\n",
    "        reviews.append(item.text)\n",
    "        \n",
    "    #date\n",
    "    for item in soup.find_all(\"time\"):\n",
    "        date.append(item.text)\n",
    "        \n",
    "    #country\n",
    "    for item in soup.find_all(\"h3\"):\n",
    "        country.append(item.span.next_sibling.text.strip(\" ()\"))\n",
    "        \n",
    "    print(f\"   ---> {len(reviews)} total reviews\")\n",
    "\n",
    "# Check if all lists have the same length\n",
    "if len(reviews) == len(date) == len(country):\n",
    "    # Create the DataFrame using the lists (excluding 'stars')\n",
    "    df = pd.DataFrame({\"reviews\": reviews, \"date\": date, \"country\": country})\n",
    "    print(\"DataFrame created successfully!\")\n",
    "else:\n",
    "    print(\"Error: Lists have different lengths.\")\n",
    "    print(f\"Length of 'reviews': {len(reviews)}\")\n",
    "    print(f\"Length of 'date': {len(date)}\")\n",
    "    print(f\"Length of 'country': {len(country)}\")\n",
    "    \n"
   ]
  },
  {
   "cell_type": "code",
   "execution_count": 165,
   "id": "6b2b1c73",
   "metadata": {
    "tags": []
   },
   "outputs": [
    {
     "data": {
      "text/html": [
       "<div>\n",
       "<style scoped>\n",
       "    .dataframe tbody tr th:only-of-type {\n",
       "        vertical-align: middle;\n",
       "    }\n",
       "\n",
       "    .dataframe tbody tr th {\n",
       "        vertical-align: top;\n",
       "    }\n",
       "\n",
       "    .dataframe thead th {\n",
       "        text-align: right;\n",
       "    }\n",
       "</style>\n",
       "<table border=\"1\" class=\"dataframe\">\n",
       "  <thead>\n",
       "    <tr style=\"text-align: right;\">\n",
       "      <th></th>\n",
       "      <th>reviews</th>\n",
       "      <th>date</th>\n",
       "      <th>country</th>\n",
       "    </tr>\n",
       "  </thead>\n",
       "  <tbody>\n",
       "    <tr>\n",
       "      <th>0</th>\n",
       "      <td>✅ Trip Verified | Terrible Experience with Bri...</td>\n",
       "      <td>29th July 2023</td>\n",
       "      <td>Canada</td>\n",
       "    </tr>\n",
       "    <tr>\n",
       "      <th>1</th>\n",
       "      <td>✅ Trip Verified | An airline that lives in the...</td>\n",
       "      <td>26th July 2023</td>\n",
       "      <td>Qatar</td>\n",
       "    </tr>\n",
       "    <tr>\n",
       "      <th>2</th>\n",
       "      <td>✅ Trip Verified |  Check-in Desk rude and dism...</td>\n",
       "      <td>26th July 2023</td>\n",
       "      <td>United Kingdom</td>\n",
       "    </tr>\n",
       "    <tr>\n",
       "      <th>3</th>\n",
       "      <td>✅ Trip Verified | I chose British Airways espe...</td>\n",
       "      <td>25th July 2023</td>\n",
       "      <td>Spain</td>\n",
       "    </tr>\n",
       "    <tr>\n",
       "      <th>4</th>\n",
       "      <td>Not Verified | I booked Premium Economy from I...</td>\n",
       "      <td>24th July 2023</td>\n",
       "      <td>United Kingdom</td>\n",
       "    </tr>\n",
       "  </tbody>\n",
       "</table>\n",
       "</div>"
      ],
      "text/plain": [
       "                                             reviews            date  \\\n",
       "0  ✅ Trip Verified | Terrible Experience with Bri...  29th July 2023   \n",
       "1  ✅ Trip Verified | An airline that lives in the...  26th July 2023   \n",
       "2  ✅ Trip Verified |  Check-in Desk rude and dism...  26th July 2023   \n",
       "3  ✅ Trip Verified | I chose British Airways espe...  25th July 2023   \n",
       "4  Not Verified | I booked Premium Economy from I...  24th July 2023   \n",
       "\n",
       "          country  \n",
       "0          Canada  \n",
       "1           Qatar  \n",
       "2  United Kingdom  \n",
       "3           Spain  \n",
       "4  United Kingdom  "
      ]
     },
     "execution_count": 165,
     "metadata": {},
     "output_type": "execute_result"
    }
   ],
   "source": [
    "df.head()"
   ]
  },
  {
   "cell_type": "code",
   "execution_count": 166,
   "id": "46741d1f",
   "metadata": {
    "tags": []
   },
   "outputs": [],
   "source": [
    "\n",
    "stars = []\n",
    "page = 10\n",
    "page_size =100\n",
    "for i in range(1, pages + 1):\n",
    "\n",
    "    for item in soup.find_all(\"div\", class_=\"rating-10\"):\n",
    "        star_rating = item.span.text.strip() if item.span else \"N/A\"\n",
    "        stars.append(star_rating)\n",
    "\n",
    "stars_df = pd.DataFrame({\"stars\": stars})\n"
   ]
  },
  {
   "cell_type": "code",
   "execution_count": 167,
   "id": "1ac24060-2408-4d9e-b625-2d3b5e2a562f",
   "metadata": {
    "tags": []
   },
   "outputs": [
    {
     "data": {
      "text/html": [
       "<div>\n",
       "<style scoped>\n",
       "    .dataframe tbody tr th:only-of-type {\n",
       "        vertical-align: middle;\n",
       "    }\n",
       "\n",
       "    .dataframe tbody tr th {\n",
       "        vertical-align: top;\n",
       "    }\n",
       "\n",
       "    .dataframe thead th {\n",
       "        text-align: right;\n",
       "    }\n",
       "</style>\n",
       "<table border=\"1\" class=\"dataframe\">\n",
       "  <thead>\n",
       "    <tr style=\"text-align: right;\">\n",
       "      <th></th>\n",
       "      <th>stars</th>\n",
       "    </tr>\n",
       "  </thead>\n",
       "  <tbody>\n",
       "    <tr>\n",
       "      <th>0</th>\n",
       "      <td>5</td>\n",
       "    </tr>\n",
       "    <tr>\n",
       "      <th>1</th>\n",
       "      <td>2</td>\n",
       "    </tr>\n",
       "    <tr>\n",
       "      <th>2</th>\n",
       "      <td>10</td>\n",
       "    </tr>\n",
       "    <tr>\n",
       "      <th>3</th>\n",
       "      <td>3</td>\n",
       "    </tr>\n",
       "    <tr>\n",
       "      <th>4</th>\n",
       "      <td>2</td>\n",
       "    </tr>\n",
       "  </tbody>\n",
       "</table>\n",
       "</div>"
      ],
      "text/plain": [
       "  stars\n",
       "0     5\n",
       "1     2\n",
       "2    10\n",
       "3     3\n",
       "4     2"
      ]
     },
     "execution_count": 167,
     "metadata": {},
     "output_type": "execute_result"
    }
   ],
   "source": [
    "stars_df.head()"
   ]
  },
  {
   "cell_type": "code",
   "execution_count": 168,
   "id": "14ed5b3e-5cbc-4ade-bda1-5946266a4762",
   "metadata": {
    "tags": []
   },
   "outputs": [
    {
     "name": "stdout",
     "output_type": "stream",
     "text": [
      "                                             reviews            date  \\\n",
      "0  ✅ Trip Verified | Terrible Experience with Bri...  29th July 2023   \n",
      "1  ✅ Trip Verified | An airline that lives in the...  26th July 2023   \n",
      "2  ✅ Trip Verified |  Check-in Desk rude and dism...  26th July 2023   \n",
      "3  ✅ Trip Verified | I chose British Airways espe...  25th July 2023   \n",
      "4  Not Verified | I booked Premium Economy from I...  24th July 2023   \n",
      "\n",
      "          country stars  \n",
      "0          Canada     5  \n",
      "1           Qatar     2  \n",
      "2  United Kingdom    10  \n",
      "3           Spain     3  \n",
      "4  United Kingdom     2  \n"
     ]
    }
   ],
   "source": [
    "combined_df = pd.concat([df, stars_df], axis=1)\n",
    "print(combined_df.head())"
   ]
  },
  {
   "cell_type": "code",
   "execution_count": 169,
   "id": "693264f8",
   "metadata": {
    "tags": []
   },
   "outputs": [
    {
     "data": {
      "text/plain": [
       "(1010, 4)"
      ]
     },
     "execution_count": 169,
     "metadata": {},
     "output_type": "execute_result"
    }
   ],
   "source": [
    "combined_df.shape"
   ]
  },
  {
   "cell_type": "code",
   "execution_count": 170,
   "id": "fc41e742-5cf1-4bba-8cb0-07f919a64d25",
   "metadata": {
    "tags": []
   },
   "outputs": [],
   "source": [
    "import pandas as pd\n",
    "\n",
    "# Assuming you have already loaded your DataFrame (df)\n",
    "# If 'reviews' is currently the index, reset it to a regular column\n",
    "combined_df.reset_index(inplace=True)\n",
    "\n",
    "# Add a new 'SNo' column to your DataFrame\n",
    "df['SNo'] = df.index + 1\n"
   ]
  },
  {
   "cell_type": "code",
   "execution_count": 171,
   "id": "ab7bea49",
   "metadata": {
    "tags": []
   },
   "outputs": [],
   "source": [
    "import os\n",
    "csv_file_path = os.path.join(os.getcwd(), \"BA_reviews.csv\")\n",
    "combined_df.to_csv(csv_file_path, index=False)"
   ]
  },
  {
   "cell_type": "code",
   "execution_count": 172,
   "id": "3eabf4a5",
   "metadata": {
    "tags": []
   },
   "outputs": [
    {
     "data": {
      "text/html": [
       "<div>\n",
       "<style scoped>\n",
       "    .dataframe tbody tr th:only-of-type {\n",
       "        vertical-align: middle;\n",
       "    }\n",
       "\n",
       "    .dataframe tbody tr th {\n",
       "        vertical-align: top;\n",
       "    }\n",
       "\n",
       "    .dataframe thead th {\n",
       "        text-align: right;\n",
       "    }\n",
       "</style>\n",
       "<table border=\"1\" class=\"dataframe\">\n",
       "  <thead>\n",
       "    <tr style=\"text-align: right;\">\n",
       "      <th></th>\n",
       "      <th>index</th>\n",
       "      <th>reviews</th>\n",
       "      <th>date</th>\n",
       "      <th>country</th>\n",
       "      <th>stars</th>\n",
       "    </tr>\n",
       "  </thead>\n",
       "  <tbody>\n",
       "    <tr>\n",
       "      <th>0</th>\n",
       "      <td>0</td>\n",
       "      <td>✅ Trip Verified | Terrible Experience with Bri...</td>\n",
       "      <td>29th July 2023</td>\n",
       "      <td>Canada</td>\n",
       "      <td>5</td>\n",
       "    </tr>\n",
       "    <tr>\n",
       "      <th>1</th>\n",
       "      <td>1</td>\n",
       "      <td>✅ Trip Verified | An airline that lives in the...</td>\n",
       "      <td>26th July 2023</td>\n",
       "      <td>Qatar</td>\n",
       "      <td>2</td>\n",
       "    </tr>\n",
       "    <tr>\n",
       "      <th>2</th>\n",
       "      <td>2</td>\n",
       "      <td>✅ Trip Verified |  Check-in Desk rude and dism...</td>\n",
       "      <td>26th July 2023</td>\n",
       "      <td>United Kingdom</td>\n",
       "      <td>10</td>\n",
       "    </tr>\n",
       "    <tr>\n",
       "      <th>3</th>\n",
       "      <td>3</td>\n",
       "      <td>✅ Trip Verified | I chose British Airways espe...</td>\n",
       "      <td>25th July 2023</td>\n",
       "      <td>Spain</td>\n",
       "      <td>3</td>\n",
       "    </tr>\n",
       "    <tr>\n",
       "      <th>4</th>\n",
       "      <td>4</td>\n",
       "      <td>Not Verified | I booked Premium Economy from I...</td>\n",
       "      <td>24th July 2023</td>\n",
       "      <td>United Kingdom</td>\n",
       "      <td>2</td>\n",
       "    </tr>\n",
       "  </tbody>\n",
       "</table>\n",
       "</div>"
      ],
      "text/plain": [
       "   index                                            reviews            date  \\\n",
       "0      0  ✅ Trip Verified | Terrible Experience with Bri...  29th July 2023   \n",
       "1      1  ✅ Trip Verified | An airline that lives in the...  26th July 2023   \n",
       "2      2  ✅ Trip Verified |  Check-in Desk rude and dism...  26th July 2023   \n",
       "3      3  ✅ Trip Verified | I chose British Airways espe...  25th July 2023   \n",
       "4      4  Not Verified | I booked Premium Economy from I...  24th July 2023   \n",
       "\n",
       "          country stars  \n",
       "0          Canada     5  \n",
       "1           Qatar     2  \n",
       "2  United Kingdom    10  \n",
       "3           Spain     3  \n",
       "4  United Kingdom     2  "
      ]
     },
     "execution_count": 172,
     "metadata": {},
     "output_type": "execute_result"
    }
   ],
   "source": [
    "combined_df.head()"
   ]
  },
  {
   "cell_type": "code",
   "execution_count": 173,
   "id": "d2763b14",
   "metadata": {
    "tags": []
   },
   "outputs": [],
   "source": [
    "import os\n",
    "csv_file_path = os.path.join(os.getcwd(), \"BA_reviews.csv\")\n",
    "combined_df.to_csv(csv_file_path, index=False)"
   ]
  }
 ],
 "metadata": {
  "kernelspec": {
   "display_name": "Python 3 (ipykernel)",
   "language": "python",
   "name": "python3"
  },
  "language_info": {
   "codemirror_mode": {
    "name": "ipython",
    "version": 3
   },
   "file_extension": ".py",
   "mimetype": "text/x-python",
   "name": "python",
   "nbconvert_exporter": "python",
   "pygments_lexer": "ipython3",
   "version": "3.11.3"
  }
 },
 "nbformat": 4,
 "nbformat_minor": 5
}
